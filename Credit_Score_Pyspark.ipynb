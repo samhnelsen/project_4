{
 "cells": [
  {
   "cell_type": "code",
   "execution_count": 3,
   "id": "db7fe4b0",
   "metadata": {},
   "outputs": [
    {
     "ename": "ImportError",
     "evalue": "cannot import name 'BinaryClassificationEvaluato' from 'pyspark.ml.evaluation' (C:\\Users\\edmon\\anaconda3\\Lib\\site-packages\\pyspark\\ml\\evaluation.py)",
     "output_type": "error",
     "traceback": [
      "\u001b[1;31m---------------------------------------------------------------------------\u001b[0m",
      "\u001b[1;31mImportError\u001b[0m                               Traceback (most recent call last)",
      "Cell \u001b[1;32mIn[3], line 5\u001b[0m\n\u001b[0;32m      3\u001b[0m \u001b[38;5;28;01mfrom\u001b[39;00m \u001b[38;5;21;01mpyspark\u001b[39;00m\u001b[38;5;21;01m.\u001b[39;00m\u001b[38;5;21;01mml\u001b[39;00m\u001b[38;5;21;01m.\u001b[39;00m\u001b[38;5;21;01mclassification\u001b[39;00m \u001b[38;5;28;01mimport\u001b[39;00m RandomForestClassifier\n\u001b[0;32m      4\u001b[0m \u001b[38;5;28;01mfrom\u001b[39;00m \u001b[38;5;21;01mpyspark\u001b[39;00m\u001b[38;5;21;01m.\u001b[39;00m\u001b[38;5;21;01mml\u001b[39;00m \u001b[38;5;28;01mimport\u001b[39;00m Pipeline\n\u001b[1;32m----> 5\u001b[0m \u001b[38;5;28;01mfrom\u001b[39;00m \u001b[38;5;21;01mpyspark\u001b[39;00m\u001b[38;5;21;01m.\u001b[39;00m\u001b[38;5;21;01mml\u001b[39;00m\u001b[38;5;21;01m.\u001b[39;00m\u001b[38;5;21;01mevaluation\u001b[39;00m \u001b[38;5;28;01mimport\u001b[39;00m BinaryClassificationEvaluato\n",
      "\u001b[1;31mImportError\u001b[0m: cannot import name 'BinaryClassificationEvaluato' from 'pyspark.ml.evaluation' (C:\\Users\\edmon\\anaconda3\\Lib\\site-packages\\pyspark\\ml\\evaluation.py)"
     ]
    }
   ],
   "source": [
    "from pyspark.sql import SparkSession\n",
    "from pyspark.ml import Pipeline"
   ]
  },
  {
   "cell_type": "code",
   "execution_count": 4,
   "id": "075a5529",
   "metadata": {},
   "outputs": [],
   "source": [
    "spark = SparkSession.builder.appName(\"CreditScorePrediction\").getOrCreate()"
   ]
  },
  {
   "cell_type": "code",
   "execution_count": 5,
   "id": "5b694747",
   "metadata": {},
   "outputs": [],
   "source": [
    "train_file_path = \"project_4_credit_score_predictor-main/project_4_credit_score_predictor-main/cleaned/train.csv\"\n",
    "test_file_path = \"project_4_credit_score_predictor-main/project_4_credit_score_predictor-main/cleaned/test.csv\""
   ]
  },
  {
   "cell_type": "code",
   "execution_count": 6,
   "id": "fc10c0c5",
   "metadata": {},
   "outputs": [],
   "source": [
    "train_df = spark.read.csv(train_file_path, header=True, inferSchema=True)\n",
    "test_df = spark.read.csv(test_file_path, header=True, inferSchema=True)"
   ]
  },
  {
   "cell_type": "code",
   "execution_count": 8,
   "id": "02a6e2bd",
   "metadata": {},
   "outputs": [
    {
     "name": "stdout",
     "output_type": "stream",
     "text": [
      "Train Data Schema:\n",
      "root\n",
      " |-- Customer_ID: integer (nullable = true)\n",
      " |-- Month: integer (nullable = true)\n",
      " |-- Age: double (nullable = true)\n",
      " |-- Occupation: string (nullable = true)\n",
      " |-- Annual_Income: double (nullable = true)\n",
      " |-- Monthly_Inhand_Salary: double (nullable = true)\n",
      " |-- Num_Credit_Card: double (nullable = true)\n",
      " |-- Interest_Rate: double (nullable = true)\n",
      " |-- Num_of_Loan: double (nullable = true)\n",
      " |-- Type_of_Loan: string (nullable = true)\n",
      " |-- Num_of_Delayed_Payment: double (nullable = true)\n",
      " |-- Changed_Credit_Limit: double (nullable = true)\n",
      " |-- Num_Credit_Inquiries: double (nullable = true)\n",
      " |-- Credit_Mix: string (nullable = true)\n",
      " |-- Outstanding_Debt: double (nullable = true)\n",
      " |-- Credit_Utilization_Ratio: double (nullable = true)\n",
      " |-- Credit_History_Age: double (nullable = true)\n",
      " |-- Payment_of_Min_Amount: string (nullable = true)\n",
      " |-- Total_EMI_per_month: double (nullable = true)\n",
      " |-- Payment_Behaviour: string (nullable = true)\n",
      " |-- Monthly_Balance: double (nullable = true)\n",
      " |-- Credit_Score: string (nullable = true)\n",
      "\n",
      "First 5 rows of Train Data:\n",
      "+-----------+-----+----+----------+-------------+---------------------+---------------+-------------+-----------+--------------------+----------------------+--------------------+--------------------+----------+----------------+------------------------+------------------+---------------------+-------------------+--------------------+------------------+------------+\n",
      "|Customer_ID|Month| Age|Occupation|Annual_Income|Monthly_Inhand_Salary|Num_Credit_Card|Interest_Rate|Num_of_Loan|        Type_of_Loan|Num_of_Delayed_Payment|Changed_Credit_Limit|Num_Credit_Inquiries|Credit_Mix|Outstanding_Debt|Credit_Utilization_Ratio|Credit_History_Age|Payment_of_Min_Amount|Total_EMI_per_month|   Payment_Behaviour|   Monthly_Balance|Credit_Score|\n",
      "+-----------+-----+----+----------+-------------+---------------------+---------------+-------------+-----------+--------------------+----------------------+--------------------+--------------------+----------+----------------+------------------------+------------------+---------------------+-------------------+--------------------+------------------+------------+\n",
      "|       3392|    1|23.0| Scientist|     19114.12|   1824.8433333333328|            4.0|          3.0|        4.0|auto loan,credit-...|                   7.0|               11.27|                 4.0|      Good|          809.98|      26.822619623699016|             265.0|                   No|  49.57494921489417|High_spent_Small_...|312.49408867943663|        Good|\n",
      "|       3392|    2|23.0| Scientist|     19114.12|   1824.8433333333328|            4.0|          3.0|        4.0|auto loan,credit-...|                   4.0|               11.27|                 4.0|      Good|          809.98|       31.94496005538421|             266.0|                   No|  49.57494921489417|Low_spent_Large_v...|284.62916249607184|        Good|\n",
      "|       3392|    3|23.0| Scientist|     19114.12|   1824.8433333333328|            4.0|          3.0|        4.0|auto loan,credit-...|                   7.0|               11.27|                 4.0|      Good|          809.98|       28.60935202206993|             267.0|                   No|  49.57494921489417|Low_spent_Medium_...| 331.2098628537912|        Good|\n",
      "|       3392|    4|23.0| Scientist|     19114.12|   1824.8433333333328|            4.0|          3.0|        4.0|auto loan,credit-...|                   4.0|                6.27|                 4.0|      Good|          809.98|      31.377861869582357|             268.0|                   No|  49.57494921489417|Low_spent_Small_v...|223.45130972736786|        Good|\n",
      "|       3392|    5|23.0| Scientist|     19114.12|   1824.8433333333328|            4.0|          3.0|        4.0|auto loan,credit-...|                   4.0|               11.27|                 4.0|      Good|          809.98|      24.797346908844982|             269.0|                   No|  49.57494921489417|High_spent_Medium...|341.48923103222177|        Good|\n",
      "+-----------+-----+----+----------+-------------+---------------------+---------------+-------------+-----------+--------------------+----------------------+--------------------+--------------------+----------+----------------+------------------------+------------------+---------------------+-------------------+--------------------+------------------+------------+\n",
      "only showing top 5 rows\n",
      "\n"
     ]
    }
   ],
   "source": [
    "print(\"Train Data Schema:\")\n",
    "train_df.printSchema()\n",
    "\n",
    "print(\"First 5 rows of Train Data:\")\n",
    "train_df.show(5)"
   ]
  },
  {
   "cell_type": "code",
   "execution_count": 9,
   "id": "2cf43932",
   "metadata": {
    "scrolled": true
   },
   "outputs": [
    {
     "name": "stdout",
     "output_type": "stream",
     "text": [
      "Test Data Schema:\n",
      "root\n",
      " |-- Customer_ID: integer (nullable = true)\n",
      " |-- Month: integer (nullable = true)\n",
      " |-- Age: double (nullable = true)\n",
      " |-- Occupation: string (nullable = true)\n",
      " |-- Annual_Income: double (nullable = true)\n",
      " |-- Monthly_Inhand_Salary: double (nullable = true)\n",
      " |-- Num_Credit_Card: double (nullable = true)\n",
      " |-- Interest_Rate: double (nullable = true)\n",
      " |-- Num_of_Loan: double (nullable = true)\n",
      " |-- Type_of_Loan: string (nullable = true)\n",
      " |-- Num_of_Delayed_Payment: double (nullable = true)\n",
      " |-- Changed_Credit_Limit: double (nullable = true)\n",
      " |-- Num_Credit_Inquiries: double (nullable = true)\n",
      " |-- Credit_Mix: string (nullable = true)\n",
      " |-- Outstanding_Debt: double (nullable = true)\n",
      " |-- Credit_Utilization_Ratio: double (nullable = true)\n",
      " |-- Credit_History_Age: double (nullable = true)\n",
      " |-- Payment_of_Min_Amount: string (nullable = true)\n",
      " |-- Total_EMI_per_month: double (nullable = true)\n",
      " |-- Payment_Behaviour: string (nullable = true)\n",
      " |-- Monthly_Balance: double (nullable = true)\n",
      "\n",
      "First 5 rows of Test Data:\n",
      "+-----------+-----+----+----------+-------------+---------------------+---------------+-------------+-----------+--------------------+----------------------+--------------------+--------------------+----------+----------------+------------------------+------------------+---------------------+-------------------+--------------------+------------------+\n",
      "|Customer_ID|Month| Age|Occupation|Annual_Income|Monthly_Inhand_Salary|Num_Credit_Card|Interest_Rate|Num_of_Loan|        Type_of_Loan|Num_of_Delayed_Payment|Changed_Credit_Limit|Num_Credit_Inquiries|Credit_Mix|Outstanding_Debt|Credit_Utilization_Ratio|Credit_History_Age|Payment_of_Min_Amount|Total_EMI_per_month|   Payment_Behaviour|   Monthly_Balance|\n",
      "+-----------+-----+----+----------+-------------+---------------------+---------------+-------------+-----------+--------------------+----------------------+--------------------+--------------------+----------+----------------+------------------------+------------------+---------------------+-------------------+--------------------+------------------+\n",
      "|       3392|    9|23.0| Scientist|     19114.12|   1824.8433333333328|            4.0|          3.0|        4.0|auto loan,credit-...|                   7.0|               11.27|                 4.0|      Good|          809.98|       35.03040185583525|             273.0|                   No|  49.57494921489417|Low_spent_Small_v...|186.26670208571772|\n",
      "|       3392|   10|24.0| Scientist|     19114.12|   1824.8433333333328|            4.0|          3.0|        4.0|auto loan,credit-...|                   9.0|               13.27|                 4.0|      Good|          809.98|      33.053114497012245|             274.0|                   No|  49.57494921489417|High_spent_Medium...|361.44400385378196|\n",
      "|       3392|   11|24.0| Scientist|     19114.12|   1824.8433333333328|            4.0|          3.0|        4.0|auto loan,credit-...|                   4.0|               12.27|                 4.0|      Good|          809.98|      33.811894118574465|             275.0|                   No|  49.57494921489417|Low_spent_Medium_...|264.67544623342997|\n",
      "|       3392|   12|24.0| Scientist|     19114.12|   1824.8433333333328|            4.0|          3.0|        4.0|auto loan,credit-...|                   5.0|               11.27|                 4.0|      Good|          809.98|      32.430559017296765|             276.0|                   No|  49.57494921489417|High_spent_Medium...|343.82687322383634|\n",
      "|       8625|    9|28.0|   Teacher|     34847.84|    3037.986666666666|            4.0|          6.0|        1.0| credit-builder loan|                   1.0|                5.42|                 5.0|      Good|          605.03|       25.92682170377555|             327.0|                   No| 18.816214573128885|High_spent_Large_...| 485.2984336755923|\n",
      "+-----------+-----+----+----------+-------------+---------------------+---------------+-------------+-----------+--------------------+----------------------+--------------------+--------------------+----------+----------------+------------------------+------------------+---------------------+-------------------+--------------------+------------------+\n",
      "only showing top 5 rows\n",
      "\n"
     ]
    }
   ],
   "source": [
    "print(\"Test Data Schema:\")\n",
    "test_df.printSchema()\n",
    "\n",
    "print(\"First 5 rows of Test Data:\")\n",
    "test_df.show(5)"
   ]
  },
  {
   "cell_type": "code",
   "execution_count": 7,
   "id": "da094c51",
   "metadata": {},
   "outputs": [],
   "source": [
    "train_df.createOrReplaceTempView(\"train_data_view\")"
   ]
  },
  {
   "cell_type": "code",
   "execution_count": 13,
   "id": "e77fda60",
   "metadata": {
    "scrolled": false
   },
   "outputs": [
    {
     "name": "stdout",
     "output_type": "stream",
     "text": [
      "+------------+-------------+\n",
      "|Credit_Score|Num_Customers|\n",
      "+------------+-------------+\n",
      "|        Good|        17828|\n",
      "|        Poor|        28998|\n",
      "|    Standard|        53174|\n",
      "+------------+-------------+\n",
      "\n"
     ]
    }
   ],
   "source": [
    "query1 = \"SELECT Credit_Score, COUNT(Customer_ID) as Num_Customers FROM train_data_view GROUP BY Credit_Score\"\n",
    "result1 = spark.sql(query1)\n",
    "result1.show()"
   ]
  },
  {
   "cell_type": "code",
   "execution_count": 14,
   "id": "69532cea",
   "metadata": {},
   "outputs": [
    {
     "name": "stdout",
     "output_type": "stream",
     "text": [
      "+------------+------------------+\n",
      "|Credit_Score|           Avg_Age|\n",
      "+------------+------------------+\n",
      "|        Good| 36.40262508413731|\n",
      "|        Poor|31.194565142423617|\n",
      "|    Standard| 33.43867303569414|\n",
      "+------------+------------------+\n",
      "\n"
     ]
    }
   ],
   "source": [
    "query2 = \"SELECT Credit_Score, AVG(Age) as Avg_Age FROM train_data_view GROUP BY Credit_Score\"\n",
    "result2 = spark.sql(query2)\n",
    "result2.show()"
   ]
  },
  {
   "cell_type": "code",
   "execution_count": 10,
   "id": "485d0c99",
   "metadata": {},
   "outputs": [
    {
     "name": "stdout",
     "output_type": "stream",
     "text": [
      "+------------+----------------+\n",
      "|Credit_Score|Outstanding_Debt|\n",
      "+------------+----------------+\n",
      "|        Good|          809.98|\n",
      "|        Good|          809.98|\n",
      "|        Good|          809.98|\n",
      "|        Good|          809.98|\n",
      "|        Good|          809.98|\n",
      "|        Good|          809.98|\n",
      "|        Good|          809.98|\n",
      "|    Standard|          809.98|\n",
      "|    Standard|          605.03|\n",
      "|        Good|          605.03|\n",
      "|    Standard|          605.03|\n",
      "|        Good|          605.03|\n",
      "|        Good|          605.03|\n",
      "|        Good|          605.03|\n",
      "|        Good|          605.03|\n",
      "|        Good|          605.03|\n",
      "|        Good|         1303.01|\n",
      "|        Good|         1303.01|\n",
      "|        Good|         1303.01|\n",
      "|        Good|         1303.01|\n",
      "+------------+----------------+\n",
      "only showing top 20 rows\n",
      "\n"
     ]
    }
   ],
   "source": [
    "spark.sql(\"SELECT Credit_Score, Outstanding_Debt FROM train_data_view\").show()"
   ]
  },
  {
   "cell_type": "code",
   "execution_count": 15,
   "id": "d352e922",
   "metadata": {},
   "outputs": [
    {
     "name": "stdout",
     "output_type": "stream",
     "text": [
      "+------------+----------------------+\n",
      "|Credit_Score|Total_Outstanding_Debt|\n",
      "+------------+----------------------+\n",
      "|        Good|  1.4284797740000028E7|\n",
      "|        Poor|    6.03585586100009E7|\n",
      "|    Standard|   6.797868125000039E7|\n",
      "+------------+----------------------+\n",
      "\n"
     ]
    }
   ],
   "source": [
    "query3 = \"SELECT Credit_Score, SUM(Outstanding_Debt) as Total_Outstanding_Debt FROM train_data_view GROUP BY Credit_Score\"\n",
    "result3 = spark.sql(query3)\n",
    "result3.show()"
   ]
  },
  {
   "cell_type": "code",
   "execution_count": 16,
   "id": "deee1998",
   "metadata": {},
   "outputs": [
    {
     "name": "stdout",
     "output_type": "stream",
     "text": [
      "+------------+-----------------+\n",
      "|Credit_Score|Avg_Annual_Income|\n",
      "+------------+-----------------+\n",
      "|        Good|65203.67210539621|\n",
      "|        Poor|40584.51532519478|\n",
      "|    Standard|50987.16483967756|\n",
      "+------------+-----------------+\n",
      "\n"
     ]
    }
   ],
   "source": [
    "query4 = \"SELECT Credit_Score, AVG(Annual_Income) as Avg_Annual_Income FROM train_data_view GROUP BY Credit_Score\"\n",
    "result4 = spark.sql(query4)\n",
    "result4.show()"
   ]
  },
  {
   "cell_type": "code",
   "execution_count": 17,
   "id": "af485c6f",
   "metadata": {},
   "outputs": [
    {
     "name": "stdout",
     "output_type": "stream",
     "text": [
      "+------------+------------------+\n",
      "|Credit_Score|Max_Monthly_Salary|\n",
      "+------------+------------------+\n",
      "|        Good|15204.633333333331|\n",
      "|        Poor|          15167.18|\n",
      "|    Standard|15204.633333333331|\n",
      "+------------+------------------+\n",
      "\n"
     ]
    }
   ],
   "source": [
    "query5 = \"SELECT Credit_Score, MAX(Monthly_Inhand_Salary) as Max_Monthly_Salary FROM train_data_view GROUP BY Credit_Score\"\n",
    "result5 = spark.sql(query5)\n",
    "result5.show()"
   ]
  },
  {
   "cell_type": "code",
   "execution_count": 18,
   "id": "41af4b76",
   "metadata": {},
   "outputs": [
    {
     "name": "stdout",
     "output_type": "stream",
     "text": [
      "+------------+--------------------+----------+\n",
      "|Credit_Score|        Type_of_Loan|Loan_Count|\n",
      "+------------+--------------------+----------+\n",
      "|        Good|             No Data|      3444|\n",
      "|        Good|       mortgage loan|       381|\n",
      "|        Good|       not specified|       366|\n",
      "|        Good| credit-builder loan|       363|\n",
      "|        Good|       personal loan|       360|\n",
      "|        Good|         payday loan|       358|\n",
      "|        Good|        student loan|       352|\n",
      "|        Good|    home equity loan|       345|\n",
      "|        Good|debt consolidatio...|       331|\n",
      "|        Good|           auto loan|       314|\n",
      "|        Good|personal loan,stu...|        90|\n",
      "|        Good|not specified,pay...|        78|\n",
      "|        Good|mortgage loan,not...|        75|\n",
      "|        Good|home equity loan,...|        75|\n",
      "|        Good|student loan,cred...|        75|\n",
      "|        Good|payday loan,debt ...|        72|\n",
      "|        Good|home equity loan,...|        69|\n",
      "|        Good|home equity loan,...|        67|\n",
      "|        Good|debt consolidatio...|        64|\n",
      "|        Good|personal loan,not...|        64|\n",
      "+------------+--------------------+----------+\n",
      "only showing top 20 rows\n",
      "\n"
     ]
    }
   ],
   "source": [
    "query6 = \"SELECT Credit_Score, Type_of_Loan, COUNT(Type_of_Loan) as Loan_Count FROM train_data_view GROUP BY Credit_Score, Type_of_Loan ORDER BY Credit_Score, Loan_Count DESC\"\n",
    "result6 = spark.sql(query6)\n",
    "result6.show()"
   ]
  },
  {
   "cell_type": "code",
   "execution_count": 20,
   "id": "2e9570b3",
   "metadata": {},
   "outputs": [
    {
     "name": "stdout",
     "output_type": "stream",
     "text": [
      "+------------+----------------------+\n",
      "|Credit_Score|Avg_Credit_Utilization|\n",
      "+------------+----------------------+\n",
      "|        Good|    32.686107068560666|\n",
      "|        Poor|    31.986146395633067|\n",
      "|    Standard|     32.31381994763402|\n",
      "+------------+----------------------+\n",
      "\n"
     ]
    }
   ],
   "source": [
    "query7 = \"SELECT Credit_Score, AVG(Credit_Utilization_Ratio) as Avg_Credit_Utilization FROM train_data_view GROUP BY Credit_Score\"\n",
    "result7 = spark.sql(query7)\n",
    "result7.show()"
   ]
  },
  {
   "cell_type": "code",
   "execution_count": 21,
   "id": "b7188805",
   "metadata": {},
   "outputs": [
    {
     "name": "stdout",
     "output_type": "stream",
     "text": [
      "+------------+------------+--------------------+\n",
      "|  Occupation|Credit_Score|Avg_Delayed_Payments|\n",
      "+------------+------------+--------------------+\n",
      "|        NULL|        Poor|                11.0|\n",
      "|        NULL|    Standard|                11.0|\n",
      "|  Accountant|        Good|   8.975103734439834|\n",
      "|  Accountant|        Poor|  15.549828178694158|\n",
      "|  Accountant|    Standard|  13.764420331239291|\n",
      "|   Architect|        Good|   8.739659367396595|\n",
      "|   Architect|        Poor|  15.888409703504044|\n",
      "|   Architect|    Standard|   13.41220556745182|\n",
      "|   Developer|        Good|   8.510743801652893|\n",
      "|   Developer|        Poor|   16.27858627858628|\n",
      "|   Developer|    Standard|  13.634132738427217|\n",
      "|      Doctor|        Good|   8.080756013745704|\n",
      "|      Doctor|        Poor|  16.134146341463413|\n",
      "|      Doctor|    Standard|  13.744166666666667|\n",
      "|    Engineer|        Good|   8.078322784810126|\n",
      "|    Engineer|        Poor|  15.897325692454633|\n",
      "|    Engineer|    Standard|  13.528237307472903|\n",
      "|Entrepreneur|        Good|   8.850632911392404|\n",
      "|Entrepreneur|        Poor|  15.559272011805215|\n",
      "|Entrepreneur|    Standard|  13.368513119533528|\n",
      "+------------+------------+--------------------+\n",
      "only showing top 20 rows\n",
      "\n"
     ]
    }
   ],
   "source": [
    "query8 = \"SELECT Occupation, Credit_Score, AVG(Num_of_Delayed_Payment) as Avg_Delayed_Payments FROM train_data_view GROUP BY Occupation, Credit_Score ORDER BY Occupation, Credit_Score\"\n",
    "result8 = spark.sql(query8)\n",
    "result8.show()"
   ]
  },
  {
   "cell_type": "code",
   "execution_count": 22,
   "id": "f1830b7c",
   "metadata": {},
   "outputs": [
    {
     "name": "stdout",
     "output_type": "stream",
     "text": [
      "+----------+------------+--------------------+----------+\n",
      "|Occupation|Credit_Score|        Type_of_Loan|Loan_Count|\n",
      "+----------+------------+--------------------+----------+\n",
      "|      NULL|        Poor|student loan,payd...|         2|\n",
      "|      NULL|    Standard|student loan,payd...|         3|\n",
      "|Accountant|        Good|             No Data|       219|\n",
      "|Accountant|        Good|       not specified|        52|\n",
      "|Accountant|        Good|       mortgage loan|        38|\n",
      "|Accountant|        Good|        student loan|        32|\n",
      "|Accountant|        Good|         payday loan|        23|\n",
      "|Accountant|        Good|mortgage loan,aut...|        15|\n",
      "|Accountant|        Good|credit-builder lo...|        14|\n",
      "|Accountant|        Good|not specified,aut...|        13|\n",
      "|Accountant|        Good| credit-builder loan|        12|\n",
      "|Accountant|        Good|auto loan,persona...|        12|\n",
      "|Accountant|        Good|auto loan,payday ...|        12|\n",
      "|Accountant|        Good|payday loan,home ...|         9|\n",
      "|Accountant|        Good|       personal loan|         8|\n",
      "|Accountant|        Good|debt consolidatio...|         8|\n",
      "|Accountant|        Good|personal loan,pay...|         8|\n",
      "|Accountant|        Good|not specified,cre...|         8|\n",
      "|Accountant|        Good|debt consolidatio...|         8|\n",
      "|Accountant|        Good|credit-builder lo...|         8|\n",
      "+----------+------------+--------------------+----------+\n",
      "only showing top 20 rows\n",
      "\n"
     ]
    }
   ],
   "source": [
    "query9 = \"SELECT Occupation, Credit_Score, Type_of_Loan, COUNT(Type_of_Loan) as Loan_Count FROM train_data_view GROUP BY Occupation, Credit_Score, Type_of_Loan ORDER BY Occupation, Credit_Score, Loan_Count DESC\"\n",
    "result9 = spark.sql(query9)\n",
    "result9.show()"
   ]
  },
  {
   "cell_type": "code",
   "execution_count": null,
   "id": "4547e01e",
   "metadata": {},
   "outputs": [],
   "source": []
  }
 ],
 "metadata": {
  "kernelspec": {
   "display_name": "Python 3 (ipykernel)",
   "language": "python",
   "name": "python3"
  },
  "language_info": {
   "codemirror_mode": {
    "name": "ipython",
    "version": 3
   },
   "file_extension": ".py",
   "mimetype": "text/x-python",
   "name": "python",
   "nbconvert_exporter": "python",
   "pygments_lexer": "ipython3",
   "version": "3.11.3"
  }
 },
 "nbformat": 4,
 "nbformat_minor": 5
}
